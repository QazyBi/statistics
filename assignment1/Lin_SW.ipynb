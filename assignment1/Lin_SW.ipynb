{
  "nbformat": 4,
  "nbformat_minor": 0,
  "metadata": {
    "colab": {
      "name": "Lin SW.ipynb",
      "provenance": [],
      "collapsed_sections": []
    },
    "kernelspec": {
      "name": "python3",
      "display_name": "Python 3"
    },
    "language_info": {
      "name": "python"
    }
  },
  "cells": [
    {
      "cell_type": "markdown",
      "source": [
        "# Continuously Maintaining Quantile Summaries of the Most Recent N Elements over a Data Stream"
      ],
      "metadata": {
        "id": "xqpCon50iUws"
      }
    },
    {
      "cell_type": "markdown",
      "source": [
        "Lin et al. did a great job on creating quantile summaries. \n",
        "\n",
        "When considering stream of data last N elements often are the most interesting to us. Here the Sliding Window algorithm becomes handy.\n",
        "\n",
        "The algorithm takes space of:\n",
        "    \\begin{align}\n",
        "        O(\\frac{log(ϵ^2 N)}{ϵ} + \\frac{1}{ϵ^2})\n",
        "    \\end{align}\n",
        "    "
      ],
      "metadata": {
        "id": "dC1K9MIqiaQV"
      }
    },
    {
      "cell_type": "markdown",
      "source": [
        "In this notebook you will see:\n",
        "- the implementation of the Sliding Window(SW) algorithm\n",
        "- implementation of the Greenwald-Khanna algorithm(will be used for SW)\n",
        "- Simulate data and run your implementation\n",
        "- Plot graphs of time and space consumption (compare to the paper)"
      ],
      "metadata": {
        "id": "HYJoyMG2j_VF"
      }
    },
    {
      "cell_type": "code",
      "source": [
        "import numpy as np\n",
        "import math\n",
        "from copy import deepcopy\n",
        "from typing import List"
      ],
      "metadata": {
        "id": "2NUy9GeWge0y"
      },
      "execution_count": 1,
      "outputs": []
    },
    {
      "cell_type": "markdown",
      "source": [
        "## Exact quantile value computation"
      ],
      "metadata": {
        "id": "YxYblDJacGjP"
      }
    },
    {
      "cell_type": "code",
      "execution_count": 2,
      "metadata": {
        "id": "CVyWCYtRH-nX"
      },
      "outputs": [],
      "source": [
        "data_stream = [12, 10, 11, 10, 1, 10, 11, 9, 6, 7, 8, 11, 4, 5, 2, 3]"
      ]
    },
    {
      "cell_type": "code",
      "source": [
        "sorted(data_stream)\n"
      ],
      "metadata": {
        "colab": {
          "base_uri": "https://localhost:8080/"
        },
        "id": "Kbox-k3sSy2g",
        "outputId": "731275cb-f9dc-4c0e-9e45-2861abcebe3a"
      },
      "execution_count": 3,
      "outputs": [
        {
          "output_type": "execute_result",
          "data": {
            "text/plain": [
              "[1, 2, 3, 4, 5, 6, 7, 8, 9, 10, 10, 10, 11, 11, 11, 12]"
            ]
          },
          "metadata": {},
          "execution_count": 3
        }
      ]
    },
    {
      "cell_type": "code",
      "source": [
        "import math\n",
        "\n",
        "\n",
        "def get_qtl(seq, phi):\n",
        "    \"\"\"\n",
        "        :seq - sequence of values\n",
        "        :phi - float number in range (0, 1)\n",
        "\n",
        "        :returns - element of a sequence whose rank is ceil(phi * N),\n",
        "                             where N is a length of the sequence\n",
        "    \"\"\"\n",
        "    srtd_seq = sorted(seq)\n",
        "    N = len(seq)\n",
        "    trgt_rank = math.ceil(phi * N) - 1  # -1 since counting start from 0\n",
        "    return srtd_seq[trgt_rank]"
      ],
      "metadata": {
        "id": "Dc6YSnlMSTwZ"
      },
      "execution_count": 4,
      "outputs": []
    },
    {
      "cell_type": "code",
      "source": [
        "# value of the quantile at timestamp 15\n",
        "t = 15 + 1\n",
        "get_qtl(data_stream[:t], 0.75)"
      ],
      "metadata": {
        "colab": {
          "base_uri": "https://localhost:8080/"
        },
        "id": "VEutbf1pTJox",
        "outputId": "cc96e6a5-390b-48d4-e556-5788e611946d"
      },
      "execution_count": 5,
      "outputs": [
        {
          "output_type": "execute_result",
          "data": {
            "text/plain": [
              "10"
            ]
          },
          "metadata": {},
          "execution_count": 5
        }
      ]
    },
    {
      "cell_type": "code",
      "source": [
        "# value of the quantile at timestamp 11\n",
        "t = 11 + 1\n",
        "get_qtl(data_stream[:t], 0.5)"
      ],
      "metadata": {
        "colab": {
          "base_uri": "https://localhost:8080/"
        },
        "id": "GWdxFreOTgPe",
        "outputId": "f4b44158-49b1-4ab0-e857-18dd904e59e0"
      },
      "execution_count": 6,
      "outputs": [
        {
          "output_type": "execute_result",
          "data": {
            "text/plain": [
              "10"
            ]
          },
          "metadata": {},
          "execution_count": 6
        }
      ]
    },
    {
      "cell_type": "code",
      "source": [
        "# value of the quantile at timestamp 11\n",
        "# given the sliding window of size 12\n",
        "t = 11 + 1\n",
        "window_size = 12\n",
        "\n",
        "lower_bound = max(0, t - window_size)\n",
        "\n",
        "get_qtl(data_stream[lower_bound: t], 0.5)"
      ],
      "metadata": {
        "colab": {
          "base_uri": "https://localhost:8080/"
        },
        "id": "7Bo6EE3yXILv",
        "outputId": "6080b1e1-374a-4a5e-e24b-e3d84dc8679f"
      },
      "execution_count": 7,
      "outputs": [
        {
          "output_type": "execute_result",
          "data": {
            "text/plain": [
              "10"
            ]
          },
          "metadata": {},
          "execution_count": 7
        }
      ]
    },
    {
      "cell_type": "code",
      "source": [
        "# value of the quantile at timestamp 15\n",
        "# given the sliding window of size 12\n",
        "t = 15 + 1\n",
        "window_size = 12\n",
        "\n",
        "lower_bound = max(0, t - window_size)\n",
        "\n",
        "get_qtl(data_stream[lower_bound: t], 0.5)"
      ],
      "metadata": {
        "colab": {
          "base_uri": "https://localhost:8080/"
        },
        "id": "e5WkeHdaYNk5",
        "outputId": "861d1b7b-f76f-4a9e-8691-8b5b08b61a15"
      },
      "execution_count": 8,
      "outputs": [
        {
          "output_type": "execute_result",
          "data": {
            "text/plain": [
              "6"
            ]
          },
          "metadata": {},
          "execution_count": 8
        }
      ]
    },
    {
      "cell_type": "markdown",
      "source": [
        "## GK\n",
        "\n",
        "\n",
        "reference: https://github.com/DataDog/sketches-py"
      ],
      "metadata": {
        "id": "8zuqnhQekARA"
      }
    },
    {
      "cell_type": "code",
      "source": [
        "DEFAULT_EPS = 0.01\n",
        "\n",
        "\n",
        "class UnequalEpsilonException(Exception):\n",
        "    pass\n",
        "\n",
        "\n",
        "class Entry(object):\n",
        "\n",
        "    def __init__(self, val, g, delta):\n",
        "        self.val = val\n",
        "        self.g = g\n",
        "        self.delta = delta\n",
        "\n",
        "    def __repr__(self):\n",
        "        return 'Entry(val={}, g={}, delta={})'.format(self.val, self.g, self.delta)\n",
        "\n",
        "\n",
        "class GKArray(object):\n",
        "\n",
        "    def __init__(self, eps=None):\n",
        "        if eps is None or eps <= 0 or eps >= 1:\n",
        "            self.eps = DEFAULT_EPS\n",
        "        else:\n",
        "            self.eps = eps\n",
        "        self.entries = []\n",
        "        self.incoming = []\n",
        "        self._min = float('+inf')\n",
        "        self._max = float('-inf')\n",
        "        self._count = 0\n",
        "        self._sum = 0\n",
        "\n",
        "    def __repr__(self):\n",
        "        return \"entries: {}, incoming: {}, count: {}, min: {}, max: {}, sum: {}\\n\".format(\n",
        "            self.entries, self.incoming, self._count, self._min, self._max, self._sum)\n",
        "\n",
        "    @property\n",
        "    def name(self):\n",
        "        return 'GKArray'\n",
        "\n",
        "    @property\n",
        "    def num_values(self):\n",
        "        return self._count\n",
        "\n",
        "    @property\n",
        "    def avg(self):\n",
        "        return float(self._sum)/self._count\n",
        "\n",
        "    @property\n",
        "    def sum(self):\n",
        "        return self._sum\n",
        "\n",
        "    def size(self):\n",
        "        if len(self.incoming) > 0:\n",
        "            self.merge_compress()\n",
        "        return len(self.entries)\n",
        "\n",
        "    def add(self, val):\n",
        "        \"\"\" Add a value to the sketch.\n",
        "        \"\"\"\n",
        "        self.incoming.append(val)\n",
        "        self._count += 1\n",
        "        self._sum += val\n",
        "        if val < self._min:\n",
        "            self._min = val\n",
        "        if val > self._max:\n",
        "            self._max = val\n",
        "        if self._count % (int(1.0/self.eps) + 1) == 0:\n",
        "            self.merge_compress()\n",
        "\n",
        "    def merge_compress(self, entries=[]):\n",
        "        \"\"\" Merge the given entry list into self.entries as well as compressing any values in\n",
        "        self.incoming buffer.\n",
        "\n",
        "        Parameters:\n",
        "            entries: list of Entry\n",
        "        \"\"\"\n",
        "        removal_threshold = np.floor(2.0*self.eps*(self._count - 1))\n",
        "        incoming = [Entry(val, 1, 0) for val in self.incoming] + [Entry(e.val, e.g, e.delta) for e in entries]\n",
        "        incoming = sorted(incoming, key=lambda x: x.val)\n",
        "\n",
        "        merged = []\n",
        "        i, j = 0, 0\n",
        "        while i < len(incoming) or j < len(self.entries):\n",
        "            if i == len(incoming):\n",
        "                # done with incoming; now only considering entries\n",
        "                if j + 1 < len(self.entries) and\\\n",
        "                   self.entries[j].g + self.entries[j+1].g + self.entries[j+1].delta <= removal_threshold:\n",
        "                    self.entries[j+1].g += self.entries[j].g\n",
        "                else:\n",
        "                    merged.append(self.entries[j])\n",
        "                j += 1\n",
        "            elif j == len(self.entries):\n",
        "                # done with entries; now only considering incoming\n",
        "                if i+1 < len(incoming) and\\\n",
        "                   incoming[i].g + incoming[i+1].g + incoming[i+1].delta <= removal_threshold:\n",
        "                    incoming[i+1].g += incoming[i].g\n",
        "                else:\n",
        "                    merged.append(incoming[i])\n",
        "                i += 1\n",
        "            elif incoming[i].val < self.entries[j].val:\n",
        "                if incoming[i].g + self.entries[j].g + self.entries[j].delta <= removal_threshold:\n",
        "                    self.entries[j].g += incoming[i].g\n",
        "                else:\n",
        "                    incoming[i].delta = self.entries[j].g + self.entries[j].delta - incoming[i].g\n",
        "                    merged.append(incoming[i])\n",
        "                i += 1\n",
        "            else:\n",
        "                if j + 1 < len(self.entries) and\\\n",
        "                   self.entries[j].g + self.entries[j+1].g + self.entries[j+1].delta <= removal_threshold:\n",
        "                    self.entries[j+1].g += self.entries[j].g\n",
        "                else:\n",
        "                    merged.append(self.entries[j])\n",
        "                j += 1\n",
        "\n",
        "        self.entries = merged\n",
        "        self.incoming = []\n",
        "\n",
        "    def merge(self, sketch):\n",
        "        \"\"\" Merge another GKArray into the current. The two sketches should have the same\n",
        "        epsilon value.\n",
        "\n",
        "        Parameters:\n",
        "            other: GKArray\n",
        "        \"\"\"\n",
        "        if self.eps != sketch.eps:\n",
        "            raise UnequalEpsilonException(\"Cannot merge two GKArrays with different epsilon values\")\n",
        "\n",
        "        if sketch._count == 0:\n",
        "            return\n",
        "\n",
        "        if self._count == 0:\n",
        "            self.entries = [Entry(e.val, e.g, e.delta) for e in sketch.entries]\n",
        "            self.incoming = sketch.incoming[:]\n",
        "            self._min = sketch._min\n",
        "            self._max = sketch._max\n",
        "            self._count = sketch._count\n",
        "            self._sum = sketch._sum\n",
        "            return\n",
        "\n",
        "        entries = []\n",
        "        spread = int(sketch.eps*(sketch._count - 1))\n",
        "        sketch.merge_compress()\n",
        "        g = sketch.entries[0].g + sketch.entries[0].delta - spread - 1\n",
        "        if g > 0:\n",
        "            entries.append(Entry(sketch._min, g, 0))\n",
        "        for i in range(len(sketch.entries)-1):\n",
        "            g = sketch.entries[i+1].g + sketch.entries[i+1].delta - sketch.entries[i].delta\n",
        "            if g > 0:\n",
        "                entries.append(Entry(sketch.entries[i].val, g, 0))\n",
        "        g = spread + 1 - sketch.entries[len(sketch.entries) - 1].delta\n",
        "        if g > 0:\n",
        "            entries.append(Entry(sketch.entries[len(sketch.entries) - 1].val, g, 0))\n",
        "        \n",
        "        self._count += sketch._count\n",
        "        self._sum += sketch._sum\n",
        "        self._min = min(self._min, sketch._min)\n",
        "        self._max = max(self._max, sketch._max)\n",
        "\n",
        "        self.merge_compress(entries)\n",
        "\n",
        "    def quantile(self, q):\n",
        "        \"\"\" Return an epsilon-approximate element at quantile q.\n",
        "\n",
        "        Parameters:\n",
        "            q: quantile to query for\n",
        "               0 <= q <= 1\n",
        "        \"\"\"\n",
        "        if q < 0 or q > 1 or self._count == 0:\n",
        "            return np.nan\n",
        "\n",
        "        if len(self.incoming) > 0:\n",
        "            self.merge_compress()\n",
        "\n",
        "        rank = int(q*(self._count - 1) + 1)\n",
        "        spread = int(self.eps*(self._count - 1))\n",
        "        g_sum = 0.0\n",
        "        i = 0\n",
        "        while i < len(self.entries):\n",
        "            g_sum += self.entries[i].g\n",
        "            if g_sum + self.entries[i].delta > rank + spread:\n",
        "                    break\n",
        "            i += 1\n",
        "        if i == 0:\n",
        "            return self._min\n",
        "\n",
        "        return self.entries[i-1].val"
      ],
      "metadata": {
        "id": "SV3VUKcqYVaQ"
      },
      "execution_count": 9,
      "outputs": []
    },
    {
      "cell_type": "markdown",
      "source": [
        "## Sliding Window(Lin. et al)"
      ],
      "metadata": {
        "id": "Hr8PaGYFxV8o"
      }
    },
    {
      "cell_type": "code",
      "source": [
        "def get_len(sketches):\n",
        "    count = 0\n",
        "    for sketch in sketches:\n",
        "        count += sketch.size()\n",
        "    return count\n",
        "\n",
        "\n",
        "def pop_smallest_v_ij(sketches):\n",
        "    assert get_len(sketches) != 0, \"number of elements is 0\"\n",
        "\n",
        "    min_v_ij = min_i = min_j = math.inf\n",
        "\n",
        "    for i, sketch in enumerate(sketches):\n",
        "        for j, entry in enumerate(sketch.entries):\n",
        "            if entry.val < min_v_ij:\n",
        "                min_v_ij = entry.val\n",
        "                min_i = i\n",
        "                min_j = j\n",
        "\n",
        "\n",
        "    entry = sketches[min_i].entries[min_j]\n",
        "    del sketches[min_i].entries[min_j]\n",
        "    return entry, min_i"
      ],
      "metadata": {
        "id": "BMmNdm007cnD"
      },
      "execution_count": 10,
      "outputs": []
    },
    {
      "cell_type": "code",
      "source": [
        "from copy import deepcopy\n",
        "\n",
        "\n",
        "def merge(sketches, eta):\n",
        "    \"\"\"\n",
        "        :returns - merged sketches\n",
        "    \"\"\"\n",
        "    sketches_copy = deepcopy(sketches)\n",
        "    ns = [sketch.num_values for sketch in sketches_copy]\n",
        "\n",
        "    S_merge = []\n",
        "    r_negs = [0]\n",
        "    r_pos = []\n",
        "\n",
        "    k = 0\n",
        "\n",
        "    l = len(sketches)\n",
        "    \n",
        "    r_i_0_neg = [0] * l\n",
        "\n",
        "    while get_len(sketches_copy) != 0:\n",
        "        # choose the tuple (v_ij, r_ij_neg, r_ij_pos) with the smallest v_ij\n",
        "        selected_entry, i = pop_smallest_v_ij(sketches_copy)\n",
        "\n",
        "        k += 1\n",
        "        v_k = selected_entry.val\n",
        "        \n",
        "        g = selected_entry.g - r_i_0_neg[i]\n",
        "        r_k_neg = r_negs[k-1] + g\n",
        "        r_negs.append(r_k_neg)\n",
        "        \n",
        "\n",
        "        if k == 1:\n",
        "            r_k_pos = eta * sum(ns[:k]) + 1\n",
        "            r_pos.append(r_k_pos)\n",
        "        else:\n",
        "            r_k_pos = r_negs[k-1] + 2 * eta * sum(ns[:k])\n",
        "            r_pos.append(r_k_pos)\n",
        "            delta = r_k_pos - r_k_neg\n",
        "            S_merge.append(Entry(v_k, g, int(delta)))\n",
        "\n",
        "    return S_merge"
      ],
      "metadata": {
        "id": "6tocs0Pu4dY5"
      },
      "execution_count": 11,
      "outputs": []
    },
    {
      "cell_type": "code",
      "source": [
        "# import copy\n",
        "\n",
        "\n",
        "# def compress(sketch: List[int], xi: float):\n",
        "#     assert len(sketch) != 0\n",
        "#     sketch_copy = copy.deepcopy(sketch)\n",
        "\n",
        "#     N = len(sketch_copy)\n",
        "#     S_compressed = []\n",
        "#     S_compressed.append(sketch_copy[0])\n",
        "\n",
        "#     r_neg = sketch_copy[0].g\n",
        "#     r_pos = r_neg + sketch_copy[0].delta\n",
        "#     del sketch_copy[0]\n",
        "\n",
        "#     for j in range(1, math.floor(1 / xi) + 1):\n",
        "#         term1 = j * math.floor(xi * N)\n",
        "#         term2 = 0.5 * xi * N\n",
        "#         cond = lambda r_neg, r_pos: term1 - term2 <= r_neg <= r_pos <=  term1 + term2\n",
        "\n",
        "#         for i in sketch_copy:\n",
        "#             r_neg += i.g\n",
        "#             r_pos += i.g + i.delta \n",
        "#             if cond(r_neg, r_pos):\n",
        "#                 S_compressed.append(i)\n",
        "#                 del i\n",
        "#                 break\n",
        "#     return S_compressed"
      ],
      "metadata": {
        "id": "ATr2Eqz0B5oj"
      },
      "execution_count": 12,
      "outputs": []
    },
    {
      "cell_type": "code",
      "source": [
        "def lift(sketch: List[Entry], N: int, zeta: float):\n",
        "    \"\"\"\n",
        "        Arguments:\n",
        "            sketch - \n",
        "            zeta - \n",
        "        Returns:\n",
        "            S_lift\n",
        "    \"\"\"\n",
        "    assert 0 <= zeta <= 1, \"please provide valid value of zeta (0, 1)\"\n",
        "\n",
        "    S_lift = deepcopy(sketch)\n",
        "    value = math.floor(zeta * 0.5 * N)\n",
        "\n",
        "    for i in S_lift:\n",
        "        i.delta += value\n",
        "    \n",
        "    return S_lift"
      ],
      "metadata": {
        "id": "W1YX9BHmM6FI"
      },
      "execution_count": 13,
      "outputs": []
    },
    {
      "cell_type": "code",
      "source": [
        "\n",
        "def sw_query(sketches: List[GKArray], phi, N, eps):\n",
        "    # merge local sketches, where eta = eps / 2\n",
        "    merged_sketches = merge(sketches, eps / 2) \n",
        "    # apply lifting, where zeta = eps\n",
        "    S_lift = lift(merged_sketches, N, eps)\n",
        "\n",
        "    rank = math.floor(phi * N)\n",
        "    offset = eps * N\n",
        "    r_neg = 0\n",
        "    r_pos = 0\n",
        "\n",
        "    for v_i in S_lift:\n",
        "        cond = lambda r_neg, r_pos: rank - offset <= r_neg <= r_pos <= rank + offset\n",
        "\n",
        "        r_neg += v_i.g\n",
        "        r_pos += r_neg + v_i.delta\n",
        "\n",
        "        if cond(r_neg, r_pos):\n",
        "            return v_i\n",
        "\n",
        "    return v_i"
      ],
      "metadata": {
        "id": "DB2FcZeZO4Ty"
      },
      "execution_count": 19,
      "outputs": []
    },
    {
      "cell_type": "code",
      "source": [
        "def SW(stream: List[int], N:int , eps: float):\n",
        "    \"\"\"Function computes Sliding Window approximate quantiles\n",
        "\n",
        "        Arguments:\n",
        "            stream - \n",
        "            N - \n",
        "            eps - \n",
        "    \"\"\"\n",
        "    # number of elements\n",
        "    k: int = 0\n",
        "    \n",
        "    buckets: List = []\n",
        "    current_bucket: GKArray = GKArray(eps= eps / 4)\n",
        "    max_bucket_size: int = math.floor(eps * N * 0.5)\n",
        "\n",
        "    for d in stream:\n",
        "        k += 1\n",
        "        \n",
        "        # if the number of elements is greater than N then remove the oldest bucket\n",
        "        if k == N + 1:\n",
        "            del buckets[0]\n",
        "            k -= max_bucket_size\n",
        "        \n",
        "        # if bucket is full then compress it and create new one\n",
        "        if current_bucket.num_values >= max_bucket_size:\n",
        "            # Once a bucket is full, its (eps / 4)- approximate sketch is compressed\n",
        "            # into an (eps / 2) - approximate sketch\n",
        "            current_bucket.merge_compress()\n",
        "\n",
        "            # add it to the list of buckets\n",
        "            buckets.append(current_bucket)\n",
        "            # initialize new bucket\n",
        "            current_bucket = GKArray(eps = eps / 4)\n",
        "\n",
        "        # add element to the bucket\n",
        "        current_bucket.add(d)\n",
        "    \n",
        "    return buckets"
      ],
      "metadata": {
        "id": "Yl2rLaApEsOe"
      },
      "execution_count": 20,
      "outputs": []
    },
    {
      "cell_type": "code",
      "source": [
        "data_stream = [0, 1, 2, 3, 4, 10, 100, 12, 213, 130, 3249, 444, 599, 190, 120, 500]\n",
        "\n",
        "N = 10\n",
        "eps = 0.5"
      ],
      "metadata": {
        "id": "fQ_l99HfrQUX"
      },
      "execution_count": 21,
      "outputs": []
    },
    {
      "cell_type": "code",
      "source": [
        "output = SW(data_stream, N, eps)\n",
        "output"
      ],
      "metadata": {
        "colab": {
          "base_uri": "https://localhost:8080/"
        },
        "id": "sX1QvFMUZAdU",
        "outputId": "266e80d4-bf70-4daf-9342-92a2fea933c9"
      },
      "execution_count": 22,
      "outputs": [
        {
          "output_type": "execute_result",
          "data": {
            "text/plain": [
              "[entries: [Entry(val=12, g=1, delta=0), Entry(val=100, g=1, delta=0)], incoming: [], count: 2, min: 12, max: 100, sum: 112,\n",
              " entries: [Entry(val=130, g=1, delta=0), Entry(val=213, g=1, delta=0)], incoming: [], count: 2, min: 130, max: 213, sum: 343,\n",
              " entries: [Entry(val=444, g=1, delta=0), Entry(val=3249, g=1, delta=0)], incoming: [], count: 2, min: 444, max: 3249, sum: 3693,\n",
              " entries: [Entry(val=190, g=1, delta=0), Entry(val=599, g=1, delta=0)], incoming: [], count: 2, min: 190, max: 599, sum: 789]"
            ]
          },
          "metadata": {},
          "execution_count": 22
        }
      ]
    },
    {
      "cell_type": "code",
      "source": [
        "quantile = sw_query(output, phi=0.5, N=N, eps=eps)\n",
        "quantile"
      ],
      "metadata": {
        "colab": {
          "base_uri": "https://localhost:8080/"
        },
        "id": "WpirU9V-fz6_",
        "outputId": "41a01aa5-cd2e-4d15-c178-f63576163624"
      },
      "execution_count": 27,
      "outputs": [
        {
          "output_type": "execute_result",
          "data": {
            "text/plain": [
              "Entry(val=100, g=1, delta=3)"
            ]
          },
          "metadata": {},
          "execution_count": 27
        }
      ]
    },
    {
      "cell_type": "markdown",
      "source": [
        "### Tests"
      ],
      "metadata": {
        "id": "RY3JtiT8f1-6"
      }
    },
    {
      "cell_type": "code",
      "source": [
        ""
      ],
      "metadata": {
        "id": "Y4iGERipTzvJ"
      },
      "execution_count": 18,
      "outputs": []
    }
  ]
}