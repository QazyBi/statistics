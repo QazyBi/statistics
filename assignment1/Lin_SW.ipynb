{
  "nbformat": 4,
  "nbformat_minor": 0,
  "metadata": {
    "colab": {
      "name": "Lin SW.ipynb",
      "provenance": [],
      "collapsed_sections": []
    },
    "kernelspec": {
      "name": "python3",
      "display_name": "Python 3"
    },
    "language_info": {
      "name": "python"
    }
  },
  "cells": [
    {
      "cell_type": "markdown",
      "source": [
        "# Continuously Maintaining Quantile Summaries of the Most Recent N Elements over a Data Stream"
      ],
      "metadata": {
        "id": "xqpCon50iUws"
      }
    },
    {
      "cell_type": "markdown",
      "source": [
        "Lin et al. did a great job on creating quantile summaries. \n",
        "\n",
        "When considering stream of data last N elements often are the most interesting to us. Here the Sliding Window algorithm becomes handy.\n",
        "\n",
        "The algorithm takes space of:\n",
        "    \\begin{align}\n",
        "        O(\\frac{log(ϵ^2 N)}{ϵ} + \\frac{1}{ϵ^2})\n",
        "    \\end{align}\n",
        "    "
      ],
      "metadata": {
        "id": "dC1K9MIqiaQV"
      }
    },
    {
      "cell_type": "markdown",
      "source": [
        "In this notebook you will see:\n",
        "- the implementation of the Sliding Window(SW) algorithm\n",
        "- implementation of the Greenwald-Khanna algorithm(will be used for SW)\n",
        "- Simulate data and run your implementation\n",
        "- Plot graphs of time and space consumption (compare to the paper)"
      ],
      "metadata": {
        "id": "HYJoyMG2j_VF"
      }
    },
    {
      "cell_type": "code",
      "source": [
        "import numpy as np\n",
        "import math\n",
        "from copy import deepcopy\n",
        "from typing import List"
      ],
      "metadata": {
        "id": "2NUy9GeWge0y"
      },
      "execution_count": null,
      "outputs": []
    },
    {
      "cell_type": "markdown",
      "source": [
        "## Greenwald-Khanna\n",
        "\n",
        "\n",
        "Following code has been taken from the [this](https://github.com/DataDog/sketches-py) repository."
      ],
      "metadata": {
        "id": "8zuqnhQekARA"
      }
    },
    {
      "cell_type": "code",
      "source": [
        "DEFAULT_EPS = 0.01\n",
        "\n",
        "\n",
        "class UnequalEpsilonException(Exception):\n",
        "    pass\n",
        "\n",
        "\n",
        "class Entry(object):\n",
        "\n",
        "    def __init__(self, val, g, delta):\n",
        "        self.val = val\n",
        "        self.g = g\n",
        "        self.delta = delta\n",
        "\n",
        "    def __repr__(self):\n",
        "        return 'Entry(val={}, g={}, delta={})'.format(self.val, self.g, self.delta)\n",
        "\n",
        "\n",
        "class GKArray(object):\n",
        "\n",
        "    def __init__(self, eps=None):\n",
        "        if eps is None or eps <= 0 or eps >= 1:\n",
        "            self.eps = DEFAULT_EPS\n",
        "        else:\n",
        "            self.eps = eps\n",
        "        self.entries = []\n",
        "        self.incoming = []\n",
        "        self._min = float('+inf')\n",
        "        self._max = float('-inf')\n",
        "        self._count = 0\n",
        "        self._sum = 0\n",
        "\n",
        "    def __repr__(self):\n",
        "        return \"entries: {}, incoming: {}, count: {}, min: {}, max: {}, sum: {}\\n\".format(\n",
        "            self.entries, self.incoming, self._count, self._min, self._max, self._sum)\n",
        "\n",
        "    @property\n",
        "    def name(self):\n",
        "        return 'GKArray'\n",
        "\n",
        "    @property\n",
        "    def num_values(self):\n",
        "        return self._count\n",
        "\n",
        "    @property\n",
        "    def avg(self):\n",
        "        return float(self._sum)/self._count\n",
        "\n",
        "    @property\n",
        "    def sum(self):\n",
        "        return self._sum\n",
        "\n",
        "    def size(self):\n",
        "        if len(self.incoming) > 0:\n",
        "            self.merge_compress()\n",
        "        return len(self.entries)\n",
        "\n",
        "    def add(self, val):\n",
        "        \"\"\" Add a value to the sketch.\n",
        "        \"\"\"\n",
        "        self.incoming.append(val)\n",
        "        self._count += 1\n",
        "        self._sum += val\n",
        "        if val < self._min:\n",
        "            self._min = val\n",
        "        if val > self._max:\n",
        "            self._max = val\n",
        "        if self._count % (int(1.0/self.eps) + 1) == 0:\n",
        "            self.merge_compress()\n",
        "\n",
        "    def merge_compress(self, entries=[]):\n",
        "        \"\"\" Merge the given entry list into self.entries as well as compressing any values in\n",
        "        self.incoming buffer.\n",
        "\n",
        "        Parameters:\n",
        "            entries: list of Entry\n",
        "        \"\"\"\n",
        "        removal_threshold = np.floor(2.0*self.eps*(self._count - 1))\n",
        "        incoming = [Entry(val, 1, 0) for val in self.incoming] + [Entry(e.val, e.g, e.delta) for e in entries]\n",
        "        incoming = sorted(incoming, key=lambda x: x.val)\n",
        "\n",
        "        merged = []\n",
        "        i, j = 0, 0\n",
        "        while i < len(incoming) or j < len(self.entries):\n",
        "            if i == len(incoming):\n",
        "                # done with incoming; now only considering entries\n",
        "                if j + 1 < len(self.entries) and\\\n",
        "                   self.entries[j].g + self.entries[j+1].g + self.entries[j+1].delta <= removal_threshold:\n",
        "                    self.entries[j+1].g += self.entries[j].g\n",
        "                else:\n",
        "                    merged.append(self.entries[j])\n",
        "                j += 1\n",
        "            elif j == len(self.entries):\n",
        "                # done with entries; now only considering incoming\n",
        "                if i+1 < len(incoming) and\\\n",
        "                   incoming[i].g + incoming[i+1].g + incoming[i+1].delta <= removal_threshold:\n",
        "                    incoming[i+1].g += incoming[i].g\n",
        "                else:\n",
        "                    merged.append(incoming[i])\n",
        "                i += 1\n",
        "            elif incoming[i].val < self.entries[j].val:\n",
        "                if incoming[i].g + self.entries[j].g + self.entries[j].delta <= removal_threshold:\n",
        "                    self.entries[j].g += incoming[i].g\n",
        "                else:\n",
        "                    incoming[i].delta = self.entries[j].g + self.entries[j].delta - incoming[i].g\n",
        "                    merged.append(incoming[i])\n",
        "                i += 1\n",
        "            else:\n",
        "                if j + 1 < len(self.entries) and\\\n",
        "                   self.entries[j].g + self.entries[j+1].g + self.entries[j+1].delta <= removal_threshold:\n",
        "                    self.entries[j+1].g += self.entries[j].g\n",
        "                else:\n",
        "                    merged.append(self.entries[j])\n",
        "                j += 1\n",
        "\n",
        "        self.entries = merged\n",
        "        self.incoming = []\n",
        "\n",
        "    def merge(self, sketch):\n",
        "        \"\"\" Merge another GKArray into the current. The two sketches should have the same\n",
        "        epsilon value.\n",
        "\n",
        "        Parameters:\n",
        "            other: GKArray\n",
        "        \"\"\"\n",
        "        if self.eps != sketch.eps:\n",
        "            raise UnequalEpsilonException(\"Cannot merge two GKArrays with different epsilon values\")\n",
        "\n",
        "        if sketch._count == 0:\n",
        "            return\n",
        "\n",
        "        if self._count == 0:\n",
        "            self.entries = [Entry(e.val, e.g, e.delta) for e in sketch.entries]\n",
        "            self.incoming = sketch.incoming[:]\n",
        "            self._min = sketch._min\n",
        "            self._max = sketch._max\n",
        "            self._count = sketch._count\n",
        "            self._sum = sketch._sum\n",
        "            return\n",
        "\n",
        "        entries = []\n",
        "        spread = int(sketch.eps*(sketch._count - 1))\n",
        "        sketch.merge_compress()\n",
        "        g = sketch.entries[0].g + sketch.entries[0].delta - spread - 1\n",
        "        if g > 0:\n",
        "            entries.append(Entry(sketch._min, g, 0))\n",
        "        for i in range(len(sketch.entries)-1):\n",
        "            g = sketch.entries[i+1].g + sketch.entries[i+1].delta - sketch.entries[i].delta\n",
        "            if g > 0:\n",
        "                entries.append(Entry(sketch.entries[i].val, g, 0))\n",
        "        g = spread + 1 - sketch.entries[len(sketch.entries) - 1].delta\n",
        "        if g > 0:\n",
        "            entries.append(Entry(sketch.entries[len(sketch.entries) - 1].val, g, 0))\n",
        "        \n",
        "        self._count += sketch._count\n",
        "        self._sum += sketch._sum\n",
        "        self._min = min(self._min, sketch._min)\n",
        "        self._max = max(self._max, sketch._max)\n",
        "\n",
        "        self.merge_compress(entries)\n",
        "\n",
        "    def quantile(self, q):\n",
        "        \"\"\" Return an epsilon-approximate element at quantile q.\n",
        "\n",
        "        Parameters:\n",
        "            q: quantile to query for\n",
        "               0 <= q <= 1\n",
        "        \"\"\"\n",
        "        if q < 0 or q > 1 or self._count == 0:\n",
        "            return np.nan\n",
        "\n",
        "        if len(self.incoming) > 0:\n",
        "            self.merge_compress()\n",
        "\n",
        "        rank = int(q*(self._count - 1) + 1)\n",
        "        spread = int(self.eps*(self._count - 1))\n",
        "        g_sum = 0.0\n",
        "        i = 0\n",
        "        while i < len(self.entries):\n",
        "            g_sum += self.entries[i].g\n",
        "            if g_sum + self.entries[i].delta > rank + spread:\n",
        "                    break\n",
        "            i += 1\n",
        "        if i == 0:\n",
        "            return self._min\n",
        "\n",
        "        return self.entries[i-1].val"
      ],
      "metadata": {
        "id": "SV3VUKcqYVaQ"
      },
      "execution_count": null,
      "outputs": []
    },
    {
      "cell_type": "markdown",
      "source": [
        "## Sliding Window Implementation\n",
        "\n",
        "\n",
        "According to Lin et al. \"model where quantile summaries are maintained for the N most recently seen elements in a data stream, we developed a one-pass deterministic ϵ-approximate algorithm to maintain quantiles summaries.\"\n"
      ],
      "metadata": {
        "id": "Hr8PaGYFxV8o"
      }
    },
    {
      "cell_type": "markdown",
      "source": [
        "Summary of the technique"
      ],
      "metadata": {
        "id": "SXNWuyJRmEl1"
      }
    },
    {
      "cell_type": "markdown",
      "source": [
        "![image.png](data:image/png;base64,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)"
      ],
      "metadata": {
        "id": "N32wTwgdmCcG"
      }
    },
    {
      "cell_type": "code",
      "source": [
        "from copy import deepcopy\n",
        "\n",
        "\n",
        "def get_len(sketches):\n",
        "    count = 0\n",
        "    for sketch in sketches:\n",
        "        count += sketch.size()\n",
        "    return count\n",
        "\n",
        "\n",
        "def pop_smallest_v_ij(sketches):\n",
        "    assert get_len(sketches) != 0, \"number of elements is 0\"\n",
        "\n",
        "    min_v_ij = min_i = min_j = math.inf\n",
        "\n",
        "    for i, sketch in enumerate(sketches):\n",
        "        for j, entry in enumerate(sketch.entries):\n",
        "            if entry.val < min_v_ij:\n",
        "                min_v_ij = entry.val\n",
        "                min_i = i\n",
        "                min_j = j\n",
        "\n",
        "\n",
        "    entry = sketches[min_i].entries[min_j]\n",
        "    del sketches[min_i].entries[min_j]\n",
        "    return entry, min_i\n",
        "\n",
        "\n",
        "def merge(sketches, eta):\n",
        "    \"\"\"\n",
        "        :returns - merged sketches\n",
        "    \"\"\"\n",
        "    sketches_copy = deepcopy(sketches)\n",
        "    ns = [sketch.num_values for sketch in sketches_copy]\n",
        "\n",
        "    S_merge = []\n",
        "    r_negs = [0]\n",
        "    r_pos = []\n",
        "\n",
        "    k = 0\n",
        "\n",
        "    l = len(sketches)\n",
        "    \n",
        "    r_i_0_neg = [0] * l\n",
        "\n",
        "    while get_len(sketches_copy) != 0:\n",
        "        # choose the tuple (v_ij, r_ij_neg, r_ij_pos) with the smallest v_ij\n",
        "        selected_entry, i = pop_smallest_v_ij(sketches_copy)\n",
        "\n",
        "        k += 1\n",
        "        v_k = selected_entry.val\n",
        "        \n",
        "        g = selected_entry.g - r_i_0_neg[i]\n",
        "        r_k_neg = r_negs[k-1] + g\n",
        "        r_negs.append(r_k_neg)\n",
        "        \n",
        "\n",
        "        if k == 1:\n",
        "            r_k_pos = eta * sum(ns[:k]) + 1\n",
        "            r_pos.append(r_k_pos)\n",
        "        else:\n",
        "            r_k_pos = r_negs[k-1] + 2 * eta * sum(ns[:k])\n",
        "            r_pos.append(r_k_pos)\n",
        "            delta = r_k_pos - r_k_neg\n",
        "            S_merge.append(Entry(v_k, g, int(delta)))\n",
        "\n",
        "    return S_merge"
      ],
      "metadata": {
        "id": "6tocs0Pu4dY5"
      },
      "execution_count": null,
      "outputs": []
    },
    {
      "cell_type": "code",
      "source": [
        "def lift(sketch: List[Entry], N: int, zeta: float):\n",
        "    \"\"\"\n",
        "        Arguments:\n",
        "            sketch - \n",
        "            zeta - \n",
        "        Returns:\n",
        "            S_lift\n",
        "    \"\"\"\n",
        "    assert 0 <= zeta <= 1, \"please provide valid value of zeta (0, 1)\"\n",
        "\n",
        "    S_lift = deepcopy(sketch)\n",
        "    value = math.floor(zeta * 0.5 * N)\n",
        "\n",
        "    for i in S_lift:\n",
        "        i.delta += value\n",
        "    \n",
        "    return S_lift"
      ],
      "metadata": {
        "id": "W1YX9BHmM6FI"
      },
      "execution_count": null,
      "outputs": []
    },
    {
      "cell_type": "code",
      "source": [
        "def sw_query(sketches: List[GKArray], phi, N, eps):\n",
        "    # merge local sketches, where eta = eps / 2\n",
        "    merged_sketches = merge(sketches, eps / 2) \n",
        "    # apply lifting, where zeta = eps\n",
        "    S_lift = lift(merged_sketches, N, eps)\n",
        "\n",
        "    rank = math.floor(phi * N)\n",
        "    offset = eps * N\n",
        "    r_neg = 0\n",
        "    r_pos = 0\n",
        "\n",
        "    for v_i in S_lift:\n",
        "        cond = lambda r_neg, r_pos: rank - offset <= r_neg <= r_pos <= rank + offset\n",
        "\n",
        "        r_neg += v_i.g\n",
        "        r_pos += r_neg + v_i.delta\n",
        "\n",
        "        if cond(r_neg, r_pos):\n",
        "            return v_i\n",
        "\n",
        "    return v_i"
      ],
      "metadata": {
        "id": "DB2FcZeZO4Ty"
      },
      "execution_count": null,
      "outputs": []
    },
    {
      "cell_type": "code",
      "source": [
        "def SW(stream: List[int], N:int , eps: float):\n",
        "    \"\"\"Function computes Sliding Window approximate quantiles\n",
        "\n",
        "        Arguments:\n",
        "            stream - sequence of data\n",
        "            N - window size\n",
        "            eps - approximation value. In range (0, 1)\n",
        "    \"\"\"\n",
        "    # number of elements\n",
        "    k: int = 0\n",
        "    \n",
        "    buckets: List = []\n",
        "    current_bucket: GKArray = GKArray(eps= eps / 4)\n",
        "    max_bucket_size: int = math.floor(eps * N * 0.5)\n",
        "\n",
        "    for d in stream:\n",
        "        k += 1\n",
        "        \n",
        "        # if the number of elements is greater than N then remove the oldest bucket\n",
        "        if k == N + 1:\n",
        "            del buckets[0]\n",
        "            k -= max_bucket_size\n",
        "        \n",
        "        # if bucket is full then compress it and create new one\n",
        "        if current_bucket.num_values >= max_bucket_size:\n",
        "            # Once a bucket is full, its (eps / 4)- approximate sketch is compressed\n",
        "            # into an (eps / 2) - approximate sketch\n",
        "            current_bucket.merge_compress()\n",
        "\n",
        "            # add it to the list of buckets\n",
        "            buckets.append(current_bucket)\n",
        "            # initialize new bucket\n",
        "            current_bucket = GKArray(eps = eps / 4)\n",
        "\n",
        "        # add element to the bucket\n",
        "        current_bucket.add(d)\n",
        "    \n",
        "    return buckets"
      ],
      "metadata": {
        "id": "Yl2rLaApEsOe"
      },
      "execution_count": null,
      "outputs": []
    },
    {
      "cell_type": "markdown",
      "source": [
        "Let us test the algorithm on some data"
      ],
      "metadata": {
        "id": "Hb5dbbidmhFI"
      }
    },
    {
      "cell_type": "code",
      "source": [
        "data_stream = [0, 1, 2, 3, 4, 10, 100, 12, 213, 130, 3249, 444, 599, 190, 120, 500]\n",
        "\n",
        "N = 10\n",
        "eps = 0.5"
      ],
      "metadata": {
        "id": "fQ_l99HfrQUX"
      },
      "execution_count": null,
      "outputs": []
    },
    {
      "cell_type": "code",
      "source": [
        "output = SW(data_stream, N, eps)\n",
        "output"
      ],
      "metadata": {
        "colab": {
          "base_uri": "https://localhost:8080/"
        },
        "id": "sX1QvFMUZAdU",
        "outputId": "266e80d4-bf70-4daf-9342-92a2fea933c9"
      },
      "execution_count": null,
      "outputs": [
        {
          "output_type": "execute_result",
          "data": {
            "text/plain": [
              "[entries: [Entry(val=12, g=1, delta=0), Entry(val=100, g=1, delta=0)], incoming: [], count: 2, min: 12, max: 100, sum: 112,\n",
              " entries: [Entry(val=130, g=1, delta=0), Entry(val=213, g=1, delta=0)], incoming: [], count: 2, min: 130, max: 213, sum: 343,\n",
              " entries: [Entry(val=444, g=1, delta=0), Entry(val=3249, g=1, delta=0)], incoming: [], count: 2, min: 444, max: 3249, sum: 3693,\n",
              " entries: [Entry(val=190, g=1, delta=0), Entry(val=599, g=1, delta=0)], incoming: [], count: 2, min: 190, max: 599, sum: 789]"
            ]
          },
          "metadata": {},
          "execution_count": 22
        }
      ]
    },
    {
      "cell_type": "markdown",
      "source": [
        "So we will make a query 0.2 quantile"
      ],
      "metadata": {
        "id": "mJC1jTEOmmaX"
      }
    },
    {
      "cell_type": "code",
      "source": [
        "quantile = sw_query(output, phi=0.2, N=N, eps=eps)\n",
        "quantile"
      ],
      "metadata": {
        "colab": {
          "base_uri": "https://localhost:8080/"
        },
        "id": "WpirU9V-fz6_",
        "outputId": "ddb5f061-36bb-4191-e47d-56c41fbd1127"
      },
      "execution_count": null,
      "outputs": [
        {
          "output_type": "execute_result",
          "data": {
            "text/plain": [
              "Entry(val=100, g=1, delta=3)"
            ]
          },
          "metadata": {},
          "execution_count": 28
        }
      ]
    },
    {
      "cell_type": "markdown",
      "source": [
        "### Tests\n",
        "\n",
        "\n",
        "We will conduct experiments using same parameters as in the paper"
      ],
      "metadata": {
        "id": "RY3JtiT8f1-6"
      }
    },
    {
      "cell_type": "code",
      "source": [
        "import matplotlib.pyplot as plt\n",
        "import numpy as np"
      ],
      "metadata": {
        "id": "pN8YKKlunXIc"
      },
      "execution_count": null,
      "outputs": []
    },
    {
      "cell_type": "code",
      "source": [
        "data_stream = np.random.randint(0, 1e3, int(1e6))\n",
        "N = int(800e3)\n",
        "eps_values = [0.1, 0.075, 0.05, 0.025]"
      ],
      "metadata": {
        "id": "Y4iGERipTzvJ"
      },
      "execution_count": null,
      "outputs": []
    },
    {
      "cell_type": "code",
      "source": [
        "space_usage = [len(SW(data_stream, N, eps)) for eps in eps_values]"
      ],
      "metadata": {
        "colab": {
          "base_uri": "https://localhost:8080/"
        },
        "id": "5B99dgJYm-w0",
        "outputId": "cd2b8f45-6449-4f64-dada-a312aecb2477"
      },
      "execution_count": null,
      "outputs": [
        {
          "output_type": "stream",
          "name": "stdout",
          "text": [
            "CPU times: user 19.3 s, sys: 18.9 ms, total: 19.3 s\n",
            "Wall time: 19.8 s\n"
          ]
        }
      ]
    },
    {
      "cell_type": "code",
      "source": [
        "exec_times = []\n",
        "\n",
        "for eps in eps_values:\n",
        "    duration = %timeit -n1 -r1 -o SW(data_stream, N, eps)\n",
        "\n",
        "    exec_times.append(duration.all_runs[0])"
      ],
      "metadata": {
        "colab": {
          "base_uri": "https://localhost:8080/"
        },
        "id": "l1nEdYJKrvue",
        "outputId": "72dec9db-4e5b-4038-b6a9-ba574c2d4a39"
      },
      "execution_count": 94,
      "outputs": [
        {
          "output_type": "stream",
          "name": "stdout",
          "text": [
            "1 loop, best of 1: 5.3 s per loop\n",
            "1 loop, best of 1: 4.68 s per loop\n",
            "1 loop, best of 1: 4.99 s per loop\n",
            "1 loop, best of 1: 4.77 s per loop\n"
          ]
        }
      ]
    },
    {
      "cell_type": "markdown",
      "source": [
        "We will display the space consumption. It is totally correlating with paper analysis"
      ],
      "metadata": {
        "id": "qZu45AUAr-Vw"
      }
    },
    {
      "cell_type": "code",
      "source": [
        "figure = plt.figure(figsize=(10, 8))\n",
        "plt.bar(eps_values, space_usage, width=0.005, align='center')\n",
        "\n",
        "plt.xlabel('Epsilon values')\n",
        "plt.ylabel('Space Usage: #tuples')\n",
        "\n",
        "plt.xticks(eps_values)\n",
        "\n",
        "plt.title('Space Consumption')\n",
        "\n",
        "plt.show()"
      ],
      "metadata": {
        "colab": {
          "base_uri": "https://localhost:8080/",
          "height": 513
        },
        "id": "tjt34ggWm7Yd",
        "outputId": "5fa40b5f-814b-40c1-b5bb-5f2804e20d85"
      },
      "execution_count": null,
      "outputs": [
        {
          "output_type": "display_data",
          "data": {
            "image/png": "[encoded data removed]",
            "text/plain": [
              "<Figure size 720x576 with 1 Axes>"
            ]
          },
          "metadata": {
            "needs_background": "light"
          }
        }
      ]
    },
    {
      "cell_type": "markdown",
      "source": [
        "Performance measurements require more data to be captured to make accurate statements."
      ],
      "metadata": {
        "id": "PW_e_UW_tInA"
      }
    },
    {
      "cell_type": "code",
      "source": [
        "figure = plt.figure(figsize=(10, 8))\n",
        "plt.bar(eps_values, exec_times, width=0.005, align='center')\n",
        "\n",
        "plt.xlabel('Epsilon values')\n",
        "plt.ylabel('Total Time(sec)')\n",
        "\n",
        "plt.xticks(eps_values)\n",
        "\n",
        "plt.title('Performance')\n",
        "\n",
        "plt.show()"
      ],
      "metadata": {
        "colab": {
          "base_uri": "https://localhost:8080/",
          "height": 513
        },
        "id": "hR-Yxq80sHym",
        "outputId": "a6e84f4e-3f4c-4986-e3fc-0409fafc416a"
      },
      "execution_count": 97,
      "outputs": [
        {
          "output_type": "display_data",
          "data": {
            "image/png": "[encoded data removed]",
            "text/plain": [
              "<Figure size 720x576 with 1 Axes>"
            ]
          },
          "metadata": {
            "needs_background": "light"
          }
        }
      ]
    }
  ]
}